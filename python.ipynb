{
 "cells": [
  {
   "cell_type": "code",
   "execution_count": 29,
   "id": "087c88f9-5c72-444d-88ee-dea0db3e7636",
   "metadata": {},
   "outputs": [
    {
     "name": "stdout",
     "output_type": "stream",
     "text": [
      "499\n"
     ]
    }
   ],
   "source": [
    "x = 499\n",
    "print(x)"
   ]
  },
  {
   "cell_type": "code",
   "execution_count": null,
   "id": "190b0259-e738-4b5e-934d-e96e07341ccc",
   "metadata": {},
   "outputs": [],
   "source": [
    "a = 6.0\n",
    "print(type(a))\n",
    "%whos"
   ]
  },
  {
   "cell_type": "markdown",
   "id": "53d0c302-6d2f-49c1-857e-ba3e38ce21e7",
   "metadata": {},
   "source": [
    "a + b = c"
   ]
  },
  {
   "cell_type": "code",
   "execution_count": null,
   "id": "4b72be8c-af5c-4621-b7d3-0763bc30badc",
   "metadata": {},
   "outputs": [],
   "source": [
    "%whos"
   ]
  },
  {
   "cell_type": "code",
   "execution_count": null,
   "id": "934c3a8e-0a09-4188-8030-5048b755ac95",
   "metadata": {},
   "outputs": [],
   "source": [
    "print(not(2!=3))\n",
    "a= 3.89677777777777732324343\n",
    "b = 53\n",
    "print(round(a,6))\n",
    "print(divmod(b , 7))\n",
    "type(b)\n"
   ]
  },
  {
   "cell_type": "code",
   "execution_count": null,
   "id": "9543f90d-7612-4d43-ba1f-90ef56a1c158",
   "metadata": {},
   "outputs": [],
   "source": [
    "b = float(input(\"enter a number :\" ))\n",
    "a = int(input())\n",
    "b = int(input())\n",
    "\n",
    "if a > b :\n",
    " print(a)\n",
    " print(\"i m inside if \")\n",
    "else :\n",
    " print(b)\n",
    " print(\"i m inside else \")\n"
   ]
  },
  {
   "cell_type": "code",
   "execution_count": null,
   "id": "700c73f3-dd50-4d15-baf8-6465a21da441",
   "metadata": {},
   "outputs": [],
   "source": [
    "a = 20\n",
    "b = 32\n",
    "print(\"a\") if a > b else print(\"=\") if a == b else print (\"b\")"
   ]
  },
  {
   "cell_type": "code",
   "execution_count": null,
   "id": "6fcf93a5-1421-4243-8387-2c3f27d6cc08",
   "metadata": {},
   "outputs": [],
   "source": [
    "x = float(input(\"number : \"))\n",
    "if x > 0 :\n",
    "    y = round(x)\n",
    "    if y > x:\n",
    "     intPro = y - 1 \n",
    "    else :\n",
    "     intPro = y\n",
    "    print(intPro)\t\n",
    "else:\n",
    "    if y > x :\n",
    "        intPro = y+1\n",
    "    else:\n",
    "        intPro =  y\n",
    "if intPro%2 == 0 :\n",
    " print(\"EVEN\")\n",
    "else : \n",
    "    print(\"ODD\")"
   ]
  },
  {
   "cell_type": "code",
   "execution_count": null,
   "id": "c0e2f2cc-3451-470b-b352-c9c7d9d0f603",
   "metadata": {},
   "outputs": [],
   "source": [
    "n = float(input(\"number\"))\n",
    "i = 1\n",
    "while (i < n) :\n",
    " print(i)\n",
    " i += 1\n",
    " i = 1 % 2\n",
    "print(\"done\") "
   ]
  },
  {
   "cell_type": "code",
   "execution_count": null,
   "id": "335a32c9-845f-4c66-b052-9a75afea7b09",
   "metadata": {},
   "outputs": [],
   "source": [
    "i = 10 \n",
    "j = 1\n",
    "while True :\n",
    "    if i%9 == 0 :\n",
    "     print(\"inside if\")\n",
    "     break\n",
    "     print('break')\n",
    "    else :\n",
    "     print(\"inside else\")\n",
    "        \n",
    "     i = i + 1\n",
    "print(\"Done\")\n",
    "    "
   ]
  },
  {
   "cell_type": "code",
   "execution_count": null,
   "id": "1274f2fd-3d5c-4f8a-b67d-a418f70744bf",
   "metadata": {},
   "outputs": [],
   "source": [
    "i = 10 \n",
    "j = 1\n",
    "while True :\n",
    "    if i%9 != 0 :\n",
    "        i +=1\n",
    "        continue\n",
    "        print(\"something\")\n",
    "        print(\"something else\")\n",
    "        break\n",
    "print(\"Done\")"
   ]
  },
  {
   "cell_type": "code",
   "execution_count": null,
   "id": "61b19ad6-a4b1-4afc-9b03-bfb596bb0bf4",
   "metadata": {},
   "outputs": [],
   "source": [
    "i = 10 \n",
    "j = 1\n",
    "while True :\n",
    "    if i%9 != 0 :\n",
    "        i +=1\n",
    "        continue\n",
    "        print(\"something\")\n",
    "        print(\"so  mething else\")\n",
    "        break\n",
    "print(\"Done\")"
   ]
  },
  {
   "cell_type": "code",
   "execution_count": null,
   "id": "bd8c1095-d5ed-41d7-8d31-d5740257c642",
   "metadata": {},
   "outputs": [],
   "source": [
    "l = []\n",
    "for i in range(0,30,4):\n",
    "    print(i)\n",
    "    l.append(i**2)\n",
    "print(l)\n",
    "\n",
    "# k = {'apple' , 3.43 , 'jhan'}\n",
    "# for x in k :\n",
    "#     print(x)\n",
    "k = {'name' : \"khan\" , 'address' : \"bmk\" , 'No' : \"09\"}\n",
    "for x in k :\n",
    "    print(x,k[x])"
   ]
  },
  {
   "cell_type": "code",
   "execution_count": 16,
   "id": "73ca7b4f-2bfe-4366-aed4-18890b409f85",
   "metadata": {},
   "outputs": [
    {
     "name": "stdout",
     "output_type": "stream",
     "text": [
      "[-5, 1, 2, 4, 7, 8, 9]\n"
     ]
    }
   ],
   "source": [
    "list=[2, 1,-5,4,7,9,8] \n",
    "for k in range(len(list)):\n",
    "  m = list[k]\n",
    "  idx = k\n",
    "  c = k\n",
    "  for a in range(k , len(list)):\n",
    "    if list[a] < m:\n",
    "         m=list[a]\n",
    "         idx = c\n",
    "    c += 1      \n",
    "\n",
    "  temp = list[k]\n",
    "  list[k] = m \n",
    "  list[idx] = temp\n",
    "print(list)"
   ]
  },
  {
   "cell_type": "code",
   "execution_count": 22,
   "id": "091bd9d3-6b6c-4119-86af-e8a2b818dd6c",
   "metadata": {},
   "outputs": [
    {
     "name": "stdout",
     "output_type": "stream",
     "text": [
      "the task is assigned\n",
      "the task is prcessing \n",
      "the task is completed \n",
      "Help on function funExp1 in module __main__:\n",
      "\n",
      "funExp1()\n",
      "    this function is doing nothing except printing a message. \n",
      "    that is 'hello'\n",
      "\n"
     ]
    }
   ],
   "source": [
    "def funExp():\n",
    "    print(\"the task is assigned\")\n",
    "    print(\"the task is prcessing \")\n",
    "    print(\"the task is completed \")\n",
    "funExp()\n",
    "\n",
    "def funExp1():\n",
    "    '''this function is doing nothing except printing a message. \n",
    "    that is 'hello' '''\n",
    "    print(\"hello\")\n",
    "help(funExp1)"
   ]
  },
  {
   "cell_type": "code",
   "execution_count": 38,
   "id": "a45bf099-8463-4b94-bca0-b7104d74e9c3",
   "metadata": {},
   "outputs": [
    {
     "name": "stdout",
     "output_type": "stream",
     "text": [
      "ur input is not string\n",
      "here is what u wrote  23\n"
     ]
    }
   ],
   "source": [
    "\n",
    "def funArg(msg):\n",
    "    \"\"\" the function prints the msg supplied by the user in string and if it\n",
    "    is anything else it will print not string \"\"\"\n",
    "    \n",
    "    if isinstance(msg , str):\n",
    "        print(msg)\n",
    "    else : \n",
    "        print(\"ur input is not string\")\n",
    "        print(\"here is what u wrote \" , msg)\n",
    "# funArg(\"this is a message\")\n",
    "\n",
    "funArg(23)\n"
   ]
  },
  {
   "cell_type": "code",
   "execution_count": 47,
   "id": "e535b39b-1c77-4e39-a42f-fa4d5b1cca14",
   "metadata": {},
   "outputs": [
    {
     "name": "stdout",
     "output_type": "stream",
     "text": [
      "64\n"
     ]
    },
    {
     "data": {
      "text/plain": [
       "\u001b[1;31mSignature:\u001b[0m \u001b[0mfunPow\u001b[0m\u001b[1;33m(\u001b[0m\u001b[0ma\u001b[0m\u001b[1;33m,\u001b[0m \u001b[0mb\u001b[0m\u001b[1;33m)\u001b[0m\u001b[1;33m\u001b[0m\u001b[1;33m\u001b[0m\u001b[0m\n",
       "\u001b[1;31mDocstring:\u001b[0m this fun computes power\n",
       "\u001b[1;31mFile:\u001b[0m      c:\\users\\hp\\appdata\\local\\temp\\ipykernel_13052\\1836024069.py\n",
       "\u001b[1;31mType:\u001b[0m      function"
      ]
     },
     "metadata": {},
     "output_type": "display_data"
    }
   ],
   "source": [
    "def funPow(a,b) :\n",
    "    \"\"\"this fun computes power\"\"\"\n",
    "    r = a**b\n",
    "    print(r)\n",
    "funPow(4,3)\n",
    "funPow?"
   ]
  },
  {
   "cell_type": "code",
   "execution_count": 13,
   "id": "bb4591cf-6479-4e6f-90ad-90e6f7579b8c",
   "metadata": {},
   "outputs": [
    {
     "name": "stdout",
     "output_type": "stream",
     "text": [
      "22\n"
     ]
    }
   ],
   "source": [
    "def checkArg(a,b,c):\n",
    "    \"\"\"this check arg is provide in valid state and expecting only 3 arg\"\"\"\n",
    "    if isinstance(a,(int , float)) and isinstance ( b ,(int , float)) and isinstance(c , (int , float)):\n",
    "      print(a+c*b)\n",
    "    else : \n",
    "        print(\"error\") \n",
    "        \n",
    "checkArg(a = 4, b = 2 , c =  9 )"
   ]
  },
  {
   "cell_type": "code",
   "execution_count": 11,
   "id": "623a26c9-79f0-4e99-96d8-19aea718d9b7",
   "metadata": {},
   "outputs": [
    {
     "name": "stdout",
     "output_type": "stream",
     "text": [
      "11\n",
      "5 7 somethinf\n"
     ]
    }
   ],
   "source": [
    "def add(a,b):\n",
    "     sum = a + b\n",
    "     return sum\n",
    "d = add(6,5)     \n",
    "print(d)\n",
    "\n",
    "def r():\n",
    "    a = 5 \n",
    "    b = 7\n",
    "    d = \"somethinf\"\n",
    "    return a ,b, d\n",
    "\n",
    "q,w,e, = r()\n",
    "print(q,w,e)"
   ]
  },
  {
   "cell_type": "code",
   "execution_count": 1,
   "id": "7c67fb25-047e-488d-988b-74663b7222f2",
   "metadata": {},
   "outputs": [
    {
     "data": {
      "text/plain": [
       "34440"
      ]
     },
     "execution_count": 1,
     "metadata": {},
     "output_type": "execute_result"
    }
   ],
   "source": [
    "def add(*args):\n",
    "    sum = 0\n",
    "    for i in range(len(args)):\n",
    "        sum += args[i]\n",
    "    return sum\n",
    "add(23,4,34345,34,34)   "
   ]
  },
  {
   "cell_type": "code",
   "execution_count": null,
   "id": "4d40a599-8f04-4f9d-970b-458842a4f571",
   "metadata": {},
   "outputs": [],
   "source": []
  },
  {
   "cell_type": "code",
   "execution_count": 36,
   "id": "51319c8e-f119-4bab-a190-682a5db5adad",
   "metadata": {},
   "outputs": [
    {
     "data": {
      "text/plain": [
       "True"
      ]
     },
     "execution_count": 36,
     "metadata": {},
     "output_type": "execute_result"
    }
   ],
   "source": [
    "def checkar1(*a):\n",
    "    for i in a:\n",
    "        if not(isinstance(i, (int , float))) :\n",
    "            return False\n",
    "    else: \n",
    "        return True\n",
    "checkar1(3,23,45,65,7)"
   ]
  },
  {
   "cell_type": "code",
   "execution_count": 4,
   "id": "1082dbf9-2593-4c34-afde-26cdf4b094e1",
   "metadata": {},
   "outputs": [
    {
     "name": "stdout",
     "output_type": "stream",
     "text": [
      "True\n"
     ]
    }
   ],
   "source": [
    "def checkar2(L):\n",
    "    for i in L:\n",
    "        if not(isinstance(i, (int , float))) :\n",
    "            return False\n",
    "    return True\n",
    "print(checkar2([3,23,45,65,7]))"
   ]
  },
  {
   "cell_type": "code",
   "execution_count": 2,
   "id": "6a3a5ad2-0797-4e61-b7ac-495026c94721",
   "metadata": {},
   "outputs": [
    {
     "name": "stdout",
     "output_type": "stream",
     "text": [
      "45 2\n"
     ]
    }
   ],
   "source": [
    "def findmini(L ,startIndex):\n",
    "     m = L[startIndex]\n",
    "     idx = startIndex\n",
    "    \n",
    "     for i in  range(startIndex , len(L)):\n",
    "         x = L[i]\n",
    "         if x<m:\n",
    "           m = x  \n",
    "           idx = i\n",
    "         else :\n",
    "          pass\n",
    "     return m , idx\n",
    "a , b  = findmini([843,734,45,46,67,576,] , 0)   \n",
    "print (a ,b)"
   ]
  },
  {
   "cell_type": "code",
   "execution_count": 8,
   "id": "458489e7-7bbe-4d4a-b386-fab458c70f98",
   "metadata": {},
   "outputs": [
    {
     "name": "stdout",
     "output_type": "stream",
     "text": [
      "[4, 5, 12, 23, 34, 45, 65]\n"
     ]
    }
   ],
   "source": [
    "\n",
    "\n",
    "def swapValue(L ,idx1 , idx2) :\n",
    "    temp = L[idx1]\n",
    "    L[idx1] = L[idx2] \n",
    "    L[idx2] = temp\n",
    "    return L\n",
    "\n",
    "# L = [34,55,78,78]\n",
    "# q = swapValue(L , 1, 3)\n",
    "# print(q)\n",
    "\n",
    "def sorting(L):\n",
    "       if not(checkar2(L)):\n",
    "           print(\"Error : List does not contain numeric values\")\n",
    "           return  \n",
    "       else :\n",
    "           c = 0\n",
    "           for x in L:\n",
    "                m , idx = findmini(L,c)\n",
    "                L = swapValue(L , c , idx)\n",
    "                c += 1      \n",
    "       return L \n",
    "li =  sorting([34,45,65,23,12,4,5])   \n",
    "print(li)"
   ]
  },
  {
   "cell_type": "code",
   "execution_count": 9,
   "id": "52ebb69f-9bc2-47e2-82dd-c4e490e05ef0",
   "metadata": {},
   "outputs": [
    {
     "name": "stdout",
     "output_type": "stream",
     "text": [
      "  how are you soing   \n"
     ]
    }
   ],
   "source": [
    "a = \"  how are you soing   \"\n",
    "print(a)\n",
    "90"
   ]
  },
  {
   "cell_type": "code",
   "execution_count": 4,
   "id": "c6bbb70a-6850-4071-aa59-558acc78b741",
   "metadata": {},
   "outputs": [
    {
     "name": "stdout",
     "output_type": "stream",
     "text": [
      "We are learning \"string ' here\n",
      "c:\n",
      "ame\\c\n",
      "c:\\name\\c\n"
     ]
    }
   ],
   "source": [
    "  print(\"We are learning \\\"string \\' here\")\n",
    "print(\"c:\\name\\c\")\n",
    "print(r\"c:\\name\\c\")"
   ]
  },
  {
   "cell_type": "markdown",
   "id": "00f65b93-601c-4faf-8a42-8b3ec29c5d84",
   "metadata": {},
   "source": [
    "Data Structure"
   ]
  },
  {
   "cell_type": "code",
   "execution_count": 2,
   "id": "af0651ac-fb03-40c5-b950-6d13b87e5dd4",
   "metadata": {},
   "outputs": [
    {
     "name": "stdout",
     "output_type": "stream",
     "text": [
      "[23, 34, 3343, 'khan', 23, 'new', 'is added', 323]\n",
      "(1, 2, 3, 4, 'name', 23, 34, 4, 66, 'sdf')\n",
      "{32, 1, 34, 2387, 'is', 'SET', 443}\n",
      "{'name': 'khan', 1: 'one', 2: 'Two', 'Age': 20, 'add': 'khan', 'A': 'AA', 'D': 'Doct'}\n"
     ]
    }
   ],
   "source": [
    " L = [23,34,3343,\"khan\" , 23]\n",
    " T = (1,2,3,4,\"name\" ,23)\n",
    " S = {1,34,443,\"is\" ,32}\n",
    " D = {\"name\" : \"khan\" , 1 : \"one\" , 2:\"Two\" , \"Age\" : 20}\n",
    "# print(\"The type of L : \" ,type(L) , L )\n",
    "# print(\"The type of T : \" ,type(T) , T )\n",
    "# print(\"The type of S : \" ,type(S) , S )\n",
    "# print(\"The type of D : \" ,type(D) , D )\n",
    "\n",
    " # print(D[2])\n",
    " # print(D[\"Age\"])\n",
    " # print(L[2])\n",
    " # print(T[4])\n",
    "L =  L  + [\"new\" , \"is added\"]\n",
    "L.append(323)\n",
    "print(L)\n",
    "T2 = (34,4,66,\"sdf\")\n",
    "T = T + T2\n",
    "print(T)\n",
    "S.update({2387,\"SET\"})\n",
    "print(S)\n",
    "D[\"add\"]  = \"khan\"\n",
    "D2 = {\"A\" : \"AA\" , \"D\" : \"Doct\"}\n",
    "D.update(D2)\n",
    "print(D)\n",
    "\n",
    "# print( L.count(34))\n",
    "# L.count?\n",
    "\n",
    "\n",
    " "
   ]
  },
  {
   "cell_type": "code",
   "execution_count": 6,
   "id": "b7a07517-ce81-4752-8e16-36ae2bc2c8ac",
   "metadata": {},
   "outputs": [
    {
     "data": {
      "text/plain": [
       "{0, 9, 36, 81, 144, 225, 324}"
      ]
     },
     "execution_count": 6,
     "metadata": {},
     "output_type": "execute_result"
    }
   ],
   "source": [
    "l3 = [x**2 for x in range(10)]\n",
    "l3\n",
    "\n",
    "s3 = {x**2 for x in range(0,20,3)}\n",
    "s3"
   ]
  },
  {
   "cell_type": "code",
   "execution_count": 16,
   "id": "40027ed1-d5c2-48d3-848b-a87f4628b7ad",
   "metadata": {},
   "outputs": [
    {
     "data": {
      "text/plain": [
       "0.0001"
      ]
     },
     "execution_count": 16,
     "metadata": {},
     "output_type": "execute_result"
    }
   ],
   "source": [
    "one_hundreth = 1e-4\n",
    "one_hundreth"
   ]
  },
  {
   "cell_type": "code",
   "execution_count": 28,
   "id": "20003247-83b0-4585-acbc-b64e25e202dc",
   "metadata": {},
   "outputs": [
    {
     "data": {
      "text/plain": [
       "'Debugger w'"
      ]
     },
     "execution_count": 28,
     "metadata": {},
     "output_type": "execute_result"
    }
   ],
   "source": [
    "str = \"\"\"Debugger warning: It seems that frozen modules are being used, which may\n",
    "0.00s - make the debugger miss breakpoints. Please pass -Xfrozen_modules=off\n",
    "0.00s - to python to disable frozen modules.\n",
    "0.01s - Note: Debugging will proceed. Set \n",
    "PYDEVD_DISABLE_FILE_VALIDATION=1 to disable this validation.\n",
    "I 2024-02-14 21:45:23.302 ServerApp] Kernel started: 91e8f96d-85b7-44d0-8981-e5081cc5187a\n",
    "0.01s - Debugger warning: It seems that frozen modules are being used, which may\n",
    "0.00s - make the debugger miss breakpoints. Please pass -Xfrozen_modules=off\n",
    "0.00s - to python to disable frozen modules.\"\"\"\n",
    "len(str)\n",
    "str[0:10 ]"
   ]
  },
  {
   "cell_type": "code",
   "execution_count": 37,
   "id": "cc32de93-33ef-461d-82a9-262c10af84dc",
   "metadata": {},
   "outputs": [
    {
     "data": {
      "text/plain": [
       "'web , sun  , wed , thur , fri , sat , Tie'"
      ]
     },
     "execution_count": 37,
     "metadata": {},
     "output_type": "execute_result"
    }
   ],
   "source": [
    "week = \"   web , sun  , wed , thur , fri , sat , Tie   \"\n",
    "week.strip( )"
   ]
  },
  {
   "cell_type": "code",
   "execution_count": 42,
   "id": "435694e1-44c0-48b1-9e35-93d412d78743",
   "metadata": {},
   "outputs": [
    {
     "data": {
      "text/plain": [
       "'The cost of shoes is $30.5 , taxes are $3.5 , and price is $44.0'"
      ]
     },
     "execution_count": 42,
     "metadata": {},
     "output_type": "execute_result"
    }
   ],
   "source": [
    "cost = 30.5\n",
    "tax = 3.5\n",
    "profit = 10\n",
    "ano = \"The cost of shoes is ${} , taxes are ${} , and price is ${}\"\n",
    "ano.format(cost , tax , cost+tax+profit)"
   ]
  },
  {
   "cell_type": "code",
   "execution_count": 29,
   "id": "6049cf3f-7c95-4036-b2b7-b55e3e26a8c7",
   "metadata": {},
   "outputs": [
    {
     "name": "stdout",
     "output_type": "stream",
     "text": [
      "[5, 4, 3, 2, 1]\n"
     ]
    }
   ],
   "source": [
    "import numpy as np\n",
    "l = np.arange(10)\n",
    "l[::-1]\n",
    "my_list = [1, 2, 3, 4, 5]\n",
    "my_list.reverse()\n",
    "print(my_list)"
   ]
  },
  {
   "cell_type": "code",
   "execution_count": 29,
   "id": "9fa190ee-bb62-4eb5-a96a-8ed91cd8d907",
   "metadata": {},
   "outputs": [
    {
     "name": "stdout",
     "output_type": "stream",
     "text": [
      "The Factorial of 10 is 3628800\n",
      "CPU times: total: 0 ns\n",
      "Wall time: 0 ns\n"
     ]
    }
   ],
   "source": [
    "%%time\n",
    "# Factorial \n",
    "result = 1\n",
    "i = 1\n",
    "while i<=10:\n",
    " result =result * i\n",
    " i += 1\n",
    "print(\"The Factorial of {} is {}\".format( i - 1, result))"
   ]
  },
  {
   "cell_type": "code",
   "execution_count": 28,
   "id": "8cdf470c-0dca-4b5e-8dae-8b02afb4855f",
   "metadata": {},
   "outputs": [
    {
     "data": {
      "text/plain": [
       "[1, 5, 7, 9]"
      ]
     },
     "execution_count": 28,
     "metadata": {},
     "output_type": "execute_result"
    }
   ],
   "source": [
    "def filter_odd(num_list):\n",
    " list = []\n",
    " for num in num_list:\n",
    "     if num % 2 != 0:\n",
    "         list.append(num)\n",
    " return list\n",
    "\n",
    "filter_odd([1,2,4,5,6,7,8,9])"
   ]
  },
  {
   "cell_type": "code",
   "execution_count": 10,
   "id": "4b1fcc99-fa6b-4eb5-ab29-348a5bdd5ac6",
   "metadata": {},
   "outputs": [
    {
     "data": {
      "text/html": [
       "<div>\n",
       "<style scoped>\n",
       "    .dataframe tbody tr th:only-of-type {\n",
       "        vertical-align: middle;\n",
       "    }\n",
       "\n",
       "    .dataframe tbody tr th {\n",
       "        vertical-align: top;\n",
       "    }\n",
       "\n",
       "    .dataframe thead th {\n",
       "        text-align: right;\n",
       "    }\n",
       "</style>\n",
       "<table border=\"1\" class=\"dataframe\">\n",
       "  <thead>\n",
       "    <tr style=\"text-align: right;\">\n",
       "      <th></th>\n",
       "      <th>CITY</th>\n",
       "      <th>RETURN FLIGHT</th>\n",
       "      <th>HOTEL/DAY</th>\n",
       "      <th>WEEKLY CAR RENTAL</th>\n",
       "    </tr>\n",
       "  </thead>\n",
       "  <tbody>\n",
       "    <tr>\n",
       "      <th>0</th>\n",
       "      <td>Paris</td>\n",
       "      <td>200</td>\n",
       "      <td>20</td>\n",
       "      <td>200</td>\n",
       "    </tr>\n",
       "    <tr>\n",
       "      <th>1</th>\n",
       "      <td>London</td>\n",
       "      <td>250</td>\n",
       "      <td>30</td>\n",
       "      <td>130</td>\n",
       "    </tr>\n",
       "    <tr>\n",
       "      <th>2</th>\n",
       "      <td>Islamabad</td>\n",
       "      <td>170</td>\n",
       "      <td>15</td>\n",
       "      <td>80</td>\n",
       "    </tr>\n",
       "    <tr>\n",
       "      <th>3</th>\n",
       "      <td>Dubai</td>\n",
       "      <td>370</td>\n",
       "      <td>10</td>\n",
       "      <td>190</td>\n",
       "    </tr>\n",
       "    <tr>\n",
       "      <th>4</th>\n",
       "      <td>NewYork</td>\n",
       "      <td>400</td>\n",
       "      <td>25</td>\n",
       "      <td>230</td>\n",
       "    </tr>\n",
       "  </tbody>\n",
       "</table>\n",
       "</div>"
      ],
      "text/plain": [
       "        CITY  RETURN FLIGHT   HOTEL/DAY  WEEKLY CAR RENTAL\n",
       "0      Paris             200         20                200\n",
       "1     London             250         30                130\n",
       "2  Islamabad             170         15                 80\n",
       "3      Dubai             370         10                190\n",
       "4    NewYork             400         25                230"
      ]
     },
     "execution_count": 10,
     "metadata": {},
     "output_type": "execute_result"
    }
   ],
   "source": [
    "import pandas as pd\n",
    "df = pd.read_csv(r'C:\\Users\\Hp\\Python\\Practice1.csv')\n",
    "df"
   ]
  },
  {
   "cell_type": "markdown",
   "id": "7c9d8da4-2e07-4233-8d2c-a7550816835b",
   "metadata": {},
   "source": [
    "Which city should we visit to spend the least amount of time?\n",
    "\n",
    "How does the answer change if we change the duration to 4 ,10 or 2 weeks?\n",
    "\n",
    "If our total budget for the trip is 1000$ which city we visit to maximizd the duration of our trip? and for minize too.\n",
    "\n",
    "How does the answer to the prevous questions change if our budget is 600 ,2000 0r 1500?"
   ]
  },
  {
   "cell_type": "code",
   "execution_count": 1,
   "id": "6f2e3e57-4bf5-4a3c-9314-86bd30611e00",
   "metadata": {},
   "outputs": [
    {
     "name": "stdout",
     "output_type": "stream",
     "text": [
      "The total cost for trip to $London is $242\n"
     ]
    }
   ],
   "source": [
    "\n",
    "def cost_of_trip(C , RF , HD , CR):\n",
    "    result = (RF + HD + CR)\n",
    "    print(\"The total cost for trip to ${} is ${}\".format(C , result))\n",
    "\n",
    "cost_of_trip('London' , 10,202,30)\n",
    "    "
   ]
  },
  {
   "cell_type": "code",
   "execution_count": 26,
   "id": "8f24e131-47de-4dab-8f8f-4c0ace55b3a1",
   "metadata": {},
   "outputs": [
    {
     "data": {
      "text/plain": [
       "['2024-04-22', '2024-04-23']"
      ]
     },
     "execution_count": 26,
     "metadata": {},
     "output_type": "execute_result"
    }
   ],
   "source": [
    "import pandas as pd\n",
    "dict = {\n",
    "    'date' : ['2024-04-20','2024-04-21','2024-04-22','2024-04-23','2024-04-24',\n",
    "            '2024-04-25','2024-04-26','2024-04-27'] ,\n",
    "    'deaths':[1,9,5,3,6,7,8,2],\n",
    "    'newCases':[234,435,632,378,435,134,123,93]   \n",
    "}\n",
    "# pd.to_datetime('date')\n",
    "dict['date'][2:4]\n"
   ]
  },
  {
   "cell_type": "code",
   "execution_count": 2,
   "id": "5027f033-7844-4bbd-9bfa-a2593b487108",
   "metadata": {},
   "outputs": [
    {
     "name": "stdout",
     "output_type": "stream",
     "text": [
      "{'product_name': 'Mobile phone', 'quantity': 5, 'price': 20000, 'release_year': 2020, 'second_product_name': 'Laptop', 'second_quantity': 10, 'second_price': 50000, 'second_release_year': 2023}\n"
     ]
    }
   ],
   "source": [
    "# Task 1: Create an empty dictionary\n",
    "inventory = {}\n",
    "\n",
    "# Task 2: Store product details in variables\n",
    "product_name = \"Mobile phone\"\n",
    "product_quantity = 5\n",
    "product_price = 20000\n",
    "product_release_year = 2020\n",
    "\n",
    "# Task 3: Add the first product details to the inventory using descriptive keys\n",
    "inventory[\"product_name\"] = product_name\n",
    "inventory[\"quantity\"] = product_quantity\n",
    "inventory[\"price\"] = product_price\n",
    "inventory[\"release_year\"] = product_release_year\n",
    "\n",
    "# Task 4: Store the second product details in variables\n",
    "product_name = \"Laptop\"\n",
    "product_quantity = 10\n",
    "product_price = 50000\n",
    "product_release_year = 2023\n",
    "\n",
    "# Task 5: Add the second product details to the inventory using descriptive keys\n",
    "inventory[\"second_product_name\"] = product_name\n",
    "inventory[\"second_quantity\"] = product_quantity\n",
    "inventory[\"second_price\"] = product_price\n",
    "inventory[\"second_release_year\"] = product_release_year\n",
    "\n",
    "# Print the inventory dictionary to see the results\n",
    "print(inventory)"
   ]
  },
  {
   "cell_type": "code",
   "execution_count": 31,
   "id": "9db4f508-a500-40e8-88c9-26d1de41ba36",
   "metadata": {},
   "outputs": [
    {
     "name": "stdout",
     "output_type": "stream",
     "text": [
      "CPU times: total: 0 ns\n",
      "Wall time: 0 ns\n"
     ]
    }
   ],
   "source": [
    "%time\n",
    "\n",
    "from bs4 import BeautifulSoup\n",
    "import requests\n",
    "import csv\n",
    "\n",
    "url = 'https://www.w3schools.com/html/'\n",
    "response = requests.get(url)\n",
    "\n",
    "soup = BeautifulSoup(response.content, 'html.parser')\n",
    "\n",
    "data_list = soup.find_all('p', class_='data')\n",
    "\n",
    "scraped_data = []\n",
    "for item in data_list:\n",
    "    Heading = item.find('h2').text.strip()\n",
    "    Explanation = item.find('p').text.strip()\n",
    "    scraped_data.append({'Title': Heading, 'Description': description})\n",
    "\n",
    "with open('scraped_data.csv', 'w', newline='') as csvfile:\n",
    "    fieldnames = ['Title', 'Explanation']\n",
    "    writer = csv.DictWriter(csvfile, fieldnames=fieldnames)\n",
    "    \n",
    "    writer.writeheader()\n",
    "    for data in scraped_data:\n",
    "        writer.writerow(data)\n"
   ]
  }
 ],
 "metadata": {
  "kernelspec": {
   "display_name": "Python 3 (ipykernel)",
   "language": "python",
   "name": "python3"
  },
  "language_info": {
   "codemirror_mode": {
    "name": "ipython",
    "version": 3
   },
   "file_extension": ".py",
   "mimetype": "text/x-python",
   "name": "python",
   "nbconvert_exporter": "python",
   "pygments_lexer": "ipython3",
   "version": "3.11.5"
  }
 },
 "nbformat": 4,
 "nbformat_minor": 5
}
