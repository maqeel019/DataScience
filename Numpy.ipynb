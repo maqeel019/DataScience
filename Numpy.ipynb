{
 "cells": [
  {
   "cell_type": "code",
   "execution_count": 2,
   "id": "427f71e8-5ace-48ef-bd82-2c13b06b9b10",
   "metadata": {},
   "outputs": [
    {
     "data": {
      "text/plain": [
       "56"
      ]
     },
     "execution_count": 2,
     "metadata": {},
     "output_type": "execute_result"
    }
   ],
   "source": [
    "import numpy as np\n",
    "a = np.array([[23,45,67,86] , [23,45,56,78]])\n",
    "a.ndim\n",
    "# accessing element in 2Dimension : first number(1) in c[1,2] access which \n",
    "#array and 2nd number(2) which\n",
    "# element in array which is 56 \n",
    "a[1 , 2]\n",
    "# print(a)"
   ]
  },
  {
   "cell_type": "code",
   "execution_count": 34,
   "id": "3a1b7747-dd15-421e-81e2-f83b064c17d9",
   "metadata": {},
   "outputs": [
    {
     "name": "stdout",
     "output_type": "stream",
     "text": [
      "[[1 2 3]\n",
      " [4 5 6]\n",
      " [7 8 9]]\n"
     ]
    }
   ],
   "source": [
    "b = np.array([[1,2,3],[4,5,6],[7,8,9]])\n",
    "b.ndim\n",
    "b[2,2]\n",
    "print(b)"
   ]
  },
  {
   "cell_type": "code",
   "execution_count": 29,
   "id": "9de99d39-e25a-48c3-9928-71e97b81a848",
   "metadata": {},
   "outputs": [
    {
     "data": {
      "text/plain": [
       "72"
      ]
     },
     "execution_count": 29,
     "metadata": {},
     "output_type": "execute_result"
    }
   ],
   "source": [
    "c = np.array([[[1,2,3],[4,5,6],[7,8,9]] , [[-1,-2,-3],[-4,-5,-6],[-7,-8,-9]]] )\n",
    "c.ndim\n",
    "# accessing element in 3Dimension : first number(1) in c[1,0,2] access which \n",
    "# 2d array , 2nd number(0) which array in 2d array and 3rd number(2) which\n",
    "# element in array which is -3\n",
    "\n",
    "# c[1,0,2]\n",
    "# type(c)\n",
    "c.shape[2]\n",
    "c.size\n",
    "c.nbytes\n"
   ]
  },
  {
   "cell_type": "code",
   "execution_count": 89,
   "id": "8d9761ef-4437-4e9e-863e-1e6f09ac8789",
   "metadata": {},
   "outputs": [
    {
     "name": "stdout",
     "output_type": "stream",
     "text": [
      "[[ 0  1  2  3  4]\n",
      " [ 5  6  7  8  9]\n",
      " [10 11 12 13 14]\n",
      " [15 16 17 18 19]]\n"
     ]
    }
   ],
   "source": [
    "# d = np.arange(10)\n",
    "# print(d)\n",
    "\n",
    "e=np.random.permutation(np.arange(10))#np.random.permutation:shuffle element randomly\n",
    "# print(e)\n",
    "\n",
    "np.random.randint(20,30) #np.random.randint: randomly select integer btw 20 & 30.\n",
    "\n",
    "f = np.arange(20).reshape(4,5)\n",
    "print(f)\n",
    "# print(list(range(3,34,3)))\n",
    "# a = np.array([23,3,4,34])\n",
    "# c = np.full_like(a,5,)\n",
    "# print(c)\n",
    "# print(a)"
   ]
  },
  {
   "cell_type": "code",
   "execution_count": 30,
   "id": "c41d858f-021a-436e-80a8-6c87367f21d2",
   "metadata": {},
   "outputs": [
    {
     "name": "stdout",
     "output_type": "stream",
     "text": [
      "[1.2 4.2 0.  5.4 0.6 1.8 3.6 2.4 4.8 3. ]\n"
     ]
    }
   ],
   "source": [
    "import numpy as np\n",
    "h = np.arange(10) \n",
    "i = np.random.permutation(h / 2.5 * 1.5)\n",
    "print(i)\n"
   ]
  },
  {
   "cell_type": "code",
   "execution_count": 22,
   "id": "bb3189b2-6da8-4538-a2dd-32a5e0a07a93",
   "metadata": {},
   "outputs": [
    {
     "data": {
      "text/plain": [
       "array([[ 0,  1,  2,  3,  4,  5,  6,  7,  8,  9],\n",
       "       [10, 11, 12, 13, 14, 15, 16, 17, 18, 19],\n",
       "       [20, 21, 22, 23, 24, 25, 26, 27, 28, 29],\n",
       "       [30, 31, 32, 33, 34, 35, 36, 37, 38, 39],\n",
       "       [40, 41, 42, 43, 44, 45, 46, 47, 48, 49],\n",
       "       [50, 51, 52, 53, 54, 55, 56, 57, 58, 59],\n",
       "       [60, 61, 62, 63, 64, 65, 66, 67, 68, 69],\n",
       "       [70, 71, 72, 73, 74, 75, 76, 77, 78, 79],\n",
       "       [80, 81, 82, 83, 84, 85, 86, 87, 88, 89],\n",
       "       [90, 91, 92, 93, 94, 95, 96, 97, 98, 99]])"
      ]
     },
     "execution_count": 22,
     "metadata": {},
     "output_type": "execute_result"
    }
   ],
   "source": [
    "j = np.random.rand(2,3,4,2)\n",
    "j.ndim\n",
    "\n",
    "h = np.arange(100).reshape(10,10) #reshape e\n",
    "h"
   ]
  },
  {
   "cell_type": "markdown",
   "id": "0b3dea9b-3cd5-4074-ae5a-a1fe7fff878f",
   "metadata": {},
   "source": [
    "Slicing and indexing in Numpy"
   ]
  },
  {
   "cell_type": "code",
   "execution_count": 59,
   "id": "c0207fe4-561f-4058-becb-c97430614511",
   "metadata": {},
   "outputs": [
    {
     "data": {
      "text/plain": [
       "array([ 0,  1,  2,  3,  4,  5,  6,  7,  8,  9, 10, 11, 12, 13, 14, 15, 16,\n",
       "       17, 18, 19])"
      ]
     },
     "execution_count": 59,
     "metadata": {},
     "output_type": "execute_result"
    }
   ],
   "source": [
    "A = np.arange(100)\n",
    "B = A[:20].copy()\n",
    "B[0] = 200\n",
    "# print(B)\n",
    "# print(A)\n",
    "\n",
    "A[::-1] ## reversing the array\n",
    "\n",
    "\n",
    "## Finding index and changing its value\n",
    "idx = np.argwhere(B == 200)[0][0]\n",
    "idx\n",
    "B[idx] = 0   \n",
    "B "
   ]
  },
  {
   "cell_type": "code",
   "execution_count": 87,
   "id": "3b062972-5f06-4efb-80ea-8d370b9d3303",
   "metadata": {},
   "outputs": [
    {
     "name": "stdout",
     "output_type": "stream",
     "text": [
      "[[ 0.  1.  3.  3.]\n",
      " [ 5.  1.  7.  4.]\n",
      " [ 5.  7.  9.  6.]\n",
      " [ 6.  9.  9.  6.]\n",
      " [ 7.  9. 10.  7.]]\n",
      "[[ 0.  1.  3.  3.]\n",
      " [ 1.  4.  5.  7.]\n",
      " [ 5.  6.  7.  9.]\n",
      " [ 6.  6.  9.  9.]\n",
      " [ 7.  7.  9. 10.]]\n"
     ]
    }
   ],
   "source": [
    "C = np.round(10 * np.random.rand(5,4))\n",
    "C[1,2] ## accessing an element 1 is for row 2 is for column in that row\n",
    "\n",
    "C[1,:] ##accessing whole row with all element in that row\n",
    "\n",
    "C[:,1] ##accessing whole column with all element in that column\n",
    "\n",
    "C[1:3,2:4] ##it create submatrix,from row 1 and 2,select ele in 2 and 3 column\n",
    "\n",
    "C.sort(axis = 0) ## sort each column ascendingly\n",
    "print(C)\n",
    "C.sort(axis = 1) ## sort each row ascendingly\n",
    "print(C)"
   ]
  },
  {
   "cell_type": "code",
   "execution_count": 103,
   "id": "80ed1411-c602-4384-a3e2-697d812b78e6",
   "metadata": {},
   "outputs": [
    {
     "data": {
      "text/plain": [
       "array([ 3,  9, 15, 21, 27, 33, 39, 45, 51, 57, 63, 69, 75, 81, 87, 93, 99])"
      ]
     },
     "execution_count": 103,
     "metadata": {},
     "output_type": "execute_result"
    }
   ],
   "source": [
    "k = np.arange(100)\n",
    "k[(k%2 != 0) & (k%3 == 0)]"
   ]
  },
  {
   "cell_type": "code",
   "execution_count": 3,
   "id": "226d64c3-60ed-47ca-b657-9fd8e68f1030",
   "metadata": {},
   "outputs": [
    {
     "name": "stdout",
     "output_type": "stream",
     "text": [
      "[9 8 7 6 5 4 3 2 1 0]\n"
     ]
    },
    {
     "data": {
      "text/plain": [
       "array([' Alright', 'Are', 'Hello', 'You'], dtype='<U8')"
      ]
     },
     "execution_count": 3,
     "metadata": {},
     "output_type": "execute_result"
    }
   ],
   "source": [
    "import numpy as np\n",
    "# BroadCasting :  adding something to ndimension array\n",
    "A = np.round(10 * np.random.rand(2,3))\n",
    "A + 3\n",
    "A+(np.arange(2).reshape(2,1))\n",
    "\n",
    "# np.hstack :  concatenate array horizentally\n",
    "# np.vstack :  concatenate array vertically\n",
    "B = np.round(10 * np.random.rand(2,2))\n",
    "C = np.hstack((A,B))\n",
    "C\n",
    "\n",
    "# np.sort : sorting array\n",
    "A = np.random.permutation(np.arange(10))\n",
    "A\n",
    "A.sort()\n",
    "d= A[::-1] ## sorting in reverse order\n",
    "print(d)\n",
    "\n",
    "S = np.array([\"Hello\" , \"Are\" , \"You\" , \" Alright\"])\n",
    "S.sort() ## sort in alpabetic order.\n",
    "S"
   ]
  },
  {
   "cell_type": "code",
   "execution_count": null,
   "id": "f967c55d-27be-401a-b9b9-4881575332b5",
   "metadata": {},
   "outputs": [],
   "source": [
    "b = np.random.rand(100000)\n",
    "%timeit np.sum(b)\n",
    "%timeit sum(b)\n",
    "\n",
    "def summ(G):\n",
    "    s = 0 \n",
    "    for x in G:\n",
    "        s+=x\n",
    "    return s\n",
    "%timeit summ(b)\n"
   ]
  },
  {
   "cell_type": "code",
   "execution_count": 1,
   "id": "18d3eb4e-018a-4143-8ea8-be3bdad7a6b9",
   "metadata": {},
   "outputs": [
    {
     "ename": "NameError",
     "evalue": "name 'np' is not defined",
     "output_type": "error",
     "traceback": [
      "\u001b[1;31m---------------------------------------------------------------------------\u001b[0m",
      "\u001b[1;31mNameError\u001b[0m                                 Traceback (most recent call last)",
      "Cell \u001b[1;32mIn[1], line 1\u001b[0m\n\u001b[1;32m----> 1\u001b[0m b \u001b[38;5;241m=\u001b[39m \u001b[43mnp\u001b[49m\u001b[38;5;241m.\u001b[39marray([\n\u001b[0;32m      2\u001b[0m               [\u001b[38;5;241m1\u001b[39m,\u001b[38;5;241m2\u001b[39m,\u001b[38;5;241m3\u001b[39m,\u001b[38;5;241m11\u001b[39m],\n\u001b[0;32m      3\u001b[0m               [\u001b[38;5;241m4\u001b[39m,\u001b[38;5;241m5\u001b[39m,\u001b[38;5;241m6\u001b[39m,\u001b[38;5;241m44\u001b[39m],\n\u001b[0;32m      4\u001b[0m               [\u001b[38;5;241m7\u001b[39m,\u001b[38;5;241m8\u001b[39m,\u001b[38;5;241m9\u001b[39m,\u001b[38;5;241m77\u001b[39m],\n\u001b[0;32m      5\u001b[0m               [\u001b[38;5;241m41\u001b[39m,\u001b[38;5;241m51\u001b[39m,\u001b[38;5;241m61\u001b[39m,\u001b[38;5;241m55\u001b[39m],\n\u001b[0;32m      6\u001b[0m               [\u001b[38;5;241m72\u001b[39m,\u001b[38;5;241m82\u001b[39m,\u001b[38;5;241m92\u001b[39m,\u001b[38;5;241m99\u001b[39m]])\n\u001b[0;32m      7\u001b[0m b[\u001b[38;5;241m3\u001b[39m:,:\u001b[38;5;241m2\u001b[39m]\n\u001b[0;32m      9\u001b[0m A \u001b[38;5;241m=\u001b[39m np\u001b[38;5;241m.\u001b[39marray(\n\u001b[0;32m     10\u001b[0m [ [ [\u001b[38;5;241m45\u001b[39m, \u001b[38;5;241m12\u001b[39m, \u001b[38;5;241m4\u001b[39m], [\u001b[38;5;241m45\u001b[39m, \u001b[38;5;241m13\u001b[39m, \u001b[38;5;241m5\u001b[39m], [\u001b[38;5;241m46\u001b[39m, \u001b[38;5;241m12\u001b[39m, \u001b[38;5;241m6\u001b[39m] ],\n\u001b[0;32m     11\u001b[0m [ [\u001b[38;5;241m46\u001b[39m, \u001b[38;5;241m14\u001b[39m, \u001b[38;5;241m4\u001b[39m], [\u001b[38;5;241m45\u001b[39m, \u001b[38;5;241m14\u001b[39m, \u001b[38;5;241m5\u001b[39m], [\u001b[38;5;241m46\u001b[39m, \u001b[38;5;241m11\u001b[39m, \u001b[38;5;241m5\u001b[39m] ],\n\u001b[0;32m     12\u001b[0m [ [\u001b[38;5;241m47\u001b[39m, \u001b[38;5;241m13\u001b[39m, \u001b[38;5;241m2\u001b[39m], [\u001b[38;5;241m48\u001b[39m, \u001b[38;5;241m15\u001b[39m, \u001b[38;5;241m5\u001b[39m], [\u001b[38;5;241m52\u001b[39m, \u001b[38;5;241m15\u001b[39m, \u001b[38;5;241m1\u001b[39m] ] ])\n",
      "\u001b[1;31mNameError\u001b[0m: name 'np' is not defined"
     ]
    }
   ],
   "source": [
    "b = np.array([\n",
    "              [1,2,3,11],\n",
    "              [4,5,6,44],\n",
    "              [7,8,9,77],\n",
    "              [41,51,61,55],\n",
    "              [72,82,92,99]])\n",
    "b[3:,:2]\n",
    "\n",
    "A = np.array(\n",
    "[ [ [45, 12, 4], [45, 13, 5], [46, 12, 6] ],\n",
    "[ [46, 14, 4], [45, 14, 5], [46, 11, 5] ],\n",
    "[ [47, 13, 2], [48, 15, 5], [52, 15, 1] ] ])\n",
    "\n",
    "A[1:3 , 2:]\n",
    "c = np.arange(36).reshape(3,4,3)\n",
    "c"
   ]
  },
  {
   "cell_type": "code",
   "execution_count": 11,
   "id": "5cae835d-c757-4297-882b-164704f1b0f4",
   "metadata": {},
   "outputs": [
    {
     "data": {
      "text/plain": [
       "95"
      ]
     },
     "execution_count": 11,
     "metadata": {},
     "output_type": "execute_result"
    }
   ],
   "source": [
    "kanto = np.array([3,4,5])\n",
    "(kanto * weight).sum()\n",
    "weight =  np.array([8,9,7])\n",
    "np.dot(kanto , weight)"
   ]
  },
  {
   "cell_type": "code",
   "execution_count": 27,
   "id": "a1bb2e8b-de07-462c-8eba-523b27a3dcfe",
   "metadata": {},
   "outputs": [
    {
     "name": "stdout",
     "output_type": "stream",
     "text": [
      "CPU times: total: 422 ms\n",
      "Wall time: 461 ms\n"
     ]
    },
    {
     "name": "stderr",
     "output_type": "stream",
     "text": [
      "<timed exec>:11: RuntimeWarning: overflow encountered in scalar add\n",
      "<timed exec>:11: RuntimeWarning: overflow encountered in scalar multiply\n"
     ]
    },
    {
     "data": {
      "text/plain": [
       "893678192"
      ]
     },
     "execution_count": 27,
     "metadata": {},
     "output_type": "execute_result"
    }
   ],
   "source": [
    "%%time\n",
    "arr1 = list(range(100000))\n",
    "arr2 = list(range(100000 , 200000))\n",
    "\n",
    "ar1 = np.array(arr1)\n",
    "ar2 = np.array(arr2)\n",
    "\n",
    "\n",
    "result = 0\n",
    "\n",
    "for x1,x2 in zip(ar1,ar2):\n",
    "    result += x1 * x2\n",
    "result\n",
    "\n",
    "\n",
    "# "
   ]
  },
  {
   "cell_type": "code",
   "execution_count": 35,
   "id": "a95d74d6-703c-43b1-9956-85d87ce9dfd8",
   "metadata": {},
   "outputs": [
    {
     "name": "stdout",
     "output_type": "stream",
     "text": [
      "CPU times: total: 0 ns\n",
      "Wall time: 0 ns\n"
     ]
    },
    {
     "data": {
      "text/plain": [
       "893678192"
      ]
     },
     "execution_count": 35,
     "metadata": {},
     "output_type": "execute_result"
    }
   ],
   "source": [
    "%time\n",
    "np.dot(ar1, ar2)"
   ]
  },
  {
   "cell_type": "code",
   "execution_count": 38,
   "id": "588508b8-3f85-4031-bd11-c2566cc9044d",
   "metadata": {},
   "outputs": [
    {
     "data": {
      "text/plain": [
       "1323"
      ]
     },
     "execution_count": 38,
     "metadata": {},
     "output_type": "execute_result"
    }
   ],
   "source": [
    "## np.ones([2,3,4])\n",
    "np.zeros((3,4,5))\n",
    "np.eye(3) ##identity matrix\n",
    "np.random.rand(2,2, 3)##random matrix\n",
    "np.random.randn(1,2,3) ##value btw 1 and -1\n",
    "np.full([2,3],42)##fixed value\n",
    "np.arange(10,90,3)##raange with start, stop ,step\n",
    "np.linspace(2,32,4)##equally space numbers in a range\n",
    "mu = np.arange(10,90,3).reshape(3,3,3)\n",
    "np.divide( mu ,3)\n",
    "np.multiply( mu ,4)\n",
    "np.multiply( mu ,5)\n",
    "np.sum(mu)\n"
   ]
  },
  {
   "cell_type": "code",
   "execution_count": 46,
   "id": "405341ab-c42f-4b02-9311-0a4346c392e8",
   "metadata": {},
   "outputs": [
    {
     "data": {
      "text/plain": [
       "True"
      ]
     },
     "execution_count": 46,
     "metadata": {},
     "output_type": "execute_result"
    }
   ],
   "source": [
    "import os\n",
    "os.getcwd()\n",
    "os.listdir('C:\\\\Users\\\\Hp\\\\Python')\n",
    "\n",
    "'Data' in os.listdir('C:\\\\Users\\\\Hp\\\\Python')"
   ]
  }
 ],
 "metadata": {
  "kernelspec": {
   "display_name": "Python 3 (ipykernel)",
   "language": "python",
   "name": "python3"
  },
  "language_info": {
   "codemirror_mode": {
    "name": "ipython",
    "version": 3
   },
   "file_extension": ".py",
   "mimetype": "text/x-python",
   "name": "python",
   "nbconvert_exporter": "python",
   "pygments_lexer": "ipython3",
   "version": "3.11.5"
  }
 },
 "nbformat": 4,
 "nbformat_minor": 5
}
